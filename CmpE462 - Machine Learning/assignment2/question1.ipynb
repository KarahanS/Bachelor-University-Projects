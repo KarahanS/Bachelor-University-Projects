{
 "cells": [
  {
   "attachments": {},
   "cell_type": "markdown",
   "metadata": {},
   "source": [
    "# Support Vector Machine\n",
    "\n",
    "#### a) Train an SVM classifier for the 3D Shapes dataset. Please use the features you extracted in the first assignment. You may also extract new features if you want. There are 15 unique orientations that will be considered as 15 classes. You may use scikit-learn’s SVM function in this question. <br>\n",
    "* Train an SVM classifier for a binary classification problem by choosing two orientations\n",
    "as the classes.<br>\n",
    "* Train an SVM classifier for 15 class classification problem. <br>\n",
    "* Compare the performances of 2 and 15 class classification with the same hyperparameters. Please discuss the reasons why their performances differ."
   ]
  },
  {
   "cell_type": "code",
   "execution_count": 5,
   "metadata": {},
   "outputs": [],
   "source": [
    "import numpy as np\n",
    "import matplotlib.pyplot as plt\n",
    "from PIL import Image\n",
    "from datetime import datetime    # for measuring time\n",
    "from skimage.feature import hog  # HOG feature descriptor"
   ]
  },
  {
   "cell_type": "code",
   "execution_count": 9,
   "metadata": {},
   "outputs": [],
   "source": [
    "DATA = \"../assignment1/data2/linearRegression_data/\"\n",
    "SHAPE_TRAIN = \"3dshapes_train\"\n",
    "SHAPE_TEST = \"3dshapes_test\"\n",
    "ORIENTATIONS_TRAIN = \"orientations_train.npy\"\n",
    "ORIENTATIONS_TEST = \"orientations_test.npy\""
   ]
  },
  {
   "cell_type": "code",
   "execution_count": 10,
   "metadata": {},
   "outputs": [],
   "source": [
    "def load_npy_file(data_dir: str, file_name: str) -> np.array:\n",
    "    return np.load(f\"{data_dir}/{file_name}\")\n",
    "\n",
    "def load_data(data_dir, shape_dir, orientations_dir, size):\n",
    "    image_list = [] # store images in the memory\n",
    "    for i in range(size):\n",
    "        filename = f\"{data_dir}/{shape_dir}/{i}.jpg\"\n",
    "        im=Image.open(filename)\n",
    "        image_list.append(np.array(im.convert('L')))   \n",
    "    \n",
    "    orientations = load_npy_file(data_dir, orientations_dir)\n",
    "    return np.array(image_list), np.array(orientations)"
   ]
  },
  {
   "cell_type": "code",
   "execution_count": 11,
   "metadata": {},
   "outputs": [
    {
     "data": {
      "text/plain": [
       "((10000, 64, 64), (10000,), (1000, 64, 64), (1000,))"
      ]
     },
     "execution_count": 11,
     "metadata": {},
     "output_type": "execute_result"
    }
   ],
   "source": [
    "# loading the data may take some time (it took ~3 minutes on my machine)\n",
    "X_train, y_train = load_data(DATA, SHAPE_TRAIN, ORIENTATIONS_TRAIN, size = 10000)\n",
    "X_test, y_test = load_data(DATA, SHAPE_TEST, ORIENTATIONS_TEST, size = 1000)\n",
    "\n",
    "X_train.shape, y_train.shape, X_test.shape, y_test.shape\n",
    "# ((10000, 64, 64), (10000,), (1000, 64, 64), (1000,))"
   ]
  },
  {
   "cell_type": "code",
   "execution_count": 12,
   "metadata": {},
   "outputs": [
    {
     "data": {
      "text/plain": [
       "15"
      ]
     },
     "execution_count": 12,
     "metadata": {},
     "output_type": "execute_result"
    }
   ],
   "source": [
    "len(np.unique(y_train)) # 15 "
   ]
  },
  {
   "attachments": {},
   "cell_type": "markdown",
   "metadata": {},
   "source": [
    "##### Train an SVM classifier for a binary classification problem by choosing two orientations."
   ]
  },
  {
   "cell_type": "code",
   "execution_count": 13,
   "metadata": {},
   "outputs": [
    {
     "name": "stdout",
     "output_type": "stream",
     "text": [
      "Training set:\n",
      " \tOrientations labeled as 1:  4664.0 \n",
      " \tOrientations labeled as 0:  5336.0\n",
      "Test set:\n",
      " \tOrientations labeled as 1:  494.0 \n",
      " \tOrientations labeled as 0:  506.0\n"
     ]
    }
   ],
   "source": [
    "# cluster 15 classes into two\n",
    "# first find the mean \n",
    "mean = np.mean(y_train)\n",
    "\n",
    "# copy\n",
    "y_train_binary = y_train.copy()\n",
    "y_test_binary = y_test.copy()\n",
    "\n",
    "# then assign the labels\n",
    "y_train_binary[y_train_binary < mean] = 0\n",
    "y_train_binary[y_train_binary >= mean] = 1\n",
    "\n",
    "y_test_binary[y_test_binary < mean] = 0\n",
    "y_test_binary[y_test_binary >= mean] = 1\n",
    "\n",
    "print(\"Training set:\\n \\tOrientations labeled as 1: \", y_train_binary.sum(), \"\\n \\tOrientations labeled as 0: \", len(y_train_binary) - y_train_binary.sum())\n",
    "print(\"Test set:\\n \\tOrientations labeled as 1: \", y_test_binary.sum(), \"\\n \\tOrientations labeled as 0: \", len(y_test_binary) - y_test_binary.sum())"
   ]
  },
  {
   "cell_type": "code",
   "execution_count": 14,
   "metadata": {},
   "outputs": [
    {
     "data": {
      "text/plain": [
       "((10000, 2916), (1000, 2916))"
      ]
     },
     "execution_count": 14,
     "metadata": {},
     "output_type": "execute_result"
    }
   ],
   "source": [
    "def extract_HOG_features(images, orientations=9, pixels_per_cell=(8, 8)):\n",
    "    hog_images = np.array([hog(img, orientations=orientations, pixels_per_cell=pixels_per_cell,\n",
    "\t\t\t\t\t\tcells_per_block=(3, 3)) for img in images])\n",
    "    return hog_images\n",
    "\n",
    "X_train_HOG = extract_HOG_features(X_train)\n",
    "X_test_HOG = extract_HOG_features(X_test)\n",
    "\n",
    "X_train_HOG.shape, X_test_HOG.shape\n",
    "# 54 x 54 = 2916\n",
    "# ((10000, 2916), (1000, 2916))  "
   ]
  },
  {
   "attachments": {},
   "cell_type": "markdown",
   "metadata": {},
   "source": [
    "* SVM formulation:\n",
    "\n",
    "$$\n",
    "\\mathcal{E}_n: \\textbf{margin violation for each data point}  \\;\\;(x_n, y_n) \\\\\n",
    "\\min_{w,b,\\mathcal{E}} \\;\\; \\frac{1}{2}w^T w + C \\sum_{n=1}^{N}{\\mathcal{E}_n} \\\\\n",
    "\\text{s.t.} \\;\\; y_n (w^T x_n) \\geq 1 - \\mathcal{E}_n \\;\\; \\text{for} \\;\\; n = 1, 2, ..., N \\\\\n",
    " \\mathcal{E}_n \\geq0 \\;\\;\\;\\;\\;\\; \\text{for} \\;\\; n = 1, 2, ..., N  \\\\\n",
    "$$\n",
    "\n",
    "\n",
    "\n",
    "\n",
    "* There is no direct implementation of hard-margin or soft-margin SVM in scikit-learn. However, we can get a hard-margin SVM by setting `C` to be extremely large number (e.g. 1000) so that it leads to a higher penalization on margin violation $\\epsilon_n$. To make it a soft-margin SVM, we can set `C` to be a smaller number (e.g. 0.1) so that it leads to a lower penalization on margin violation $\\epsilon_n$."
   ]
  },
  {
   "cell_type": "code",
   "execution_count": 16,
   "metadata": {},
   "outputs": [],
   "source": [
    "# apply svm\n",
    "from sklearn.svm import SVC\n",
    "from sklearn.metrics import accuracy_score\n",
    "\n",
    "def apply_SVM(X_train: np.array, \n",
    "              y_train: np.array, \n",
    "              X_test: np.array, \n",
    "              y_test: np.array, \n",
    "              type: str,\n",
    "              svm: SVC,\n",
    "              time_acc = None):\n",
    "    time = datetime.now()\n",
    "    print(\"-\"*50)\n",
    "    print(f\"Training {type} SVM...\")\n",
    "    svm.fit(X_train, y_train)\n",
    "\n",
    "    execution_time = datetime.now() - time\n",
    "    print(f\"Training time: {execution_time}\")\n",
    "    y_pred = svm.predict(X_test)\n",
    "\n",
    "    acc = accuracy_score(y_test, y_pred)\n",
    "    print(\"Accuracy: \", acc)\n",
    "    if(time_acc is not None):\n",
    "        time_acc[type] = (round(execution_time.total_seconds(), 2), acc)"
   ]
  },
  {
   "cell_type": "code",
   "execution_count": 17,
   "metadata": {},
   "outputs": [],
   "source": [
    "svm_types = {\n",
    "    \"hard-margin linear\": SVC(C = 1000, kernel=\"linear\"),\n",
    "    \"soft-margin linear\": SVC(C = 0.1, kernel=\"linear\"),\n",
    "    \"hard-margin rbf\": SVC(C = 1000, kernel=\"rbf\", gamma=\"scale\"),\n",
    "    \"soft-margin rbf\": SVC(C = 0.1, kernel=\"rbf\", gamma=\"scale\"),\n",
    "    \"hard-margin poly\": SVC(C = 1000, kernel=\"poly\", gamma=\"scale\"),\n",
    "    \"soft-margin poly\": SVC(C = 0.1, kernel=\"poly\", gamma=\"scale\")\n",
    "}"
   ]
  },
  {
   "cell_type": "code",
   "execution_count": 18,
   "metadata": {},
   "outputs": [
    {
     "name": "stdout",
     "output_type": "stream",
     "text": [
      "--------------------------------------------------\n",
      "Training hard-margin linear SVM...\n",
      "Training time: 0:00:19.185592\n",
      "Accuracy:  1.0\n",
      "--------------------------------------------------\n",
      "Training soft-margin linear SVM...\n",
      "Training time: 0:00:42.777719\n",
      "Accuracy:  1.0\n",
      "--------------------------------------------------\n",
      "Training hard-margin rbf SVM...\n",
      "Training time: 0:00:25.470742\n",
      "Accuracy:  1.0\n",
      "--------------------------------------------------\n",
      "Training soft-margin rbf SVM...\n",
      "Training time: 0:02:00.815705\n",
      "Accuracy:  0.992\n",
      "--------------------------------------------------\n",
      "Training hard-margin poly SVM...\n",
      "Training time: 0:00:12.214175\n",
      "Accuracy:  1.0\n",
      "--------------------------------------------------\n",
      "Training soft-margin poly SVM...\n",
      "Training time: 0:00:43.350629\n",
      "Accuracy:  0.999\n"
     ]
    }
   ],
   "source": [
    "# apply different SVMs for binary classification\n",
    "for type, svm in svm_types.items():\n",
    "    apply_SVM(X_train_HOG, y_train_binary, X_test_HOG, y_test_binary, type, svm)"
   ]
  },
  {
   "attachments": {},
   "cell_type": "markdown",
   "metadata": {},
   "source": [
    "##### Train an SVM classifier for 15 class classification problem."
   ]
  },
  {
   "cell_type": "code",
   "execution_count": 19,
   "metadata": {},
   "outputs": [
    {
     "data": {
      "text/plain": [
       "(array([ 12.85714286, -12.85714286, -25.71428571,   4.28571429,\n",
       "         -4.28571429,  30.        , -30.        ,  25.71428571,\n",
       "         25.71428571,   0.        ]),\n",
       " array([10.,  4.,  1.,  8.,  6., 14.,  7., 13., 13.,  7.]))"
      ]
     },
     "execution_count": 19,
     "metadata": {},
     "output_type": "execute_result"
    }
   ],
   "source": [
    "# map orientations to categorical int values (for SVM)\n",
    "y_train_cat = y_train.copy()\n",
    "y_test_cat = y_test.copy()\n",
    "\n",
    "for i, orientation in enumerate(np.unique(y_train)):\n",
    "    y_train_cat[y_train_cat == orientation] = i\n",
    "    y_test_cat[y_test_cat == orientation] = i\n",
    "\n",
    "y_train[:10], y_train_cat[:10]"
   ]
  },
  {
   "cell_type": "code",
   "execution_count": 20,
   "metadata": {},
   "outputs": [
    {
     "name": "stdout",
     "output_type": "stream",
     "text": [
      "--------------------------------------------------\n",
      "Training hard-margin linear SVM...\n",
      "Training time: 0:00:31.888855\n",
      "Accuracy:  1.0\n",
      "--------------------------------------------------\n",
      "Training soft-margin linear SVM...\n",
      "Training time: 0:00:45.271963\n",
      "Accuracy:  0.999\n",
      "--------------------------------------------------\n",
      "Training hard-margin rbf SVM...\n",
      "Training time: 0:01:03.708464\n",
      "Accuracy:  1.0\n",
      "--------------------------------------------------\n",
      "Training soft-margin rbf SVM...\n",
      "Training time: 0:03:43.677901\n",
      "Accuracy:  0.899\n",
      "--------------------------------------------------\n",
      "Training hard-margin poly SVM...\n",
      "Training time: 0:01:11.001550\n",
      "Accuracy:  1.0\n",
      "--------------------------------------------------\n",
      "Training soft-margin poly SVM...\n",
      "Training time: 0:01:54.549854\n",
      "Accuracy:  0.984\n"
     ]
    }
   ],
   "source": [
    "time_acc = {}\n",
    "for type, svm in svm_types.items():\n",
    "    apply_SVM(X_train_HOG, y_train_cat, X_test_HOG, y_test_cat, type, svm, time_acc)"
   ]
  },
  {
   "attachments": {},
   "cell_type": "markdown",
   "metadata": {},
   "source": [
    "##### Compare the performances of 2 and 15 class classification with the same hyperparameters. Please discuss the reasons why their performances differ.\n",
    "\n",
    "* As it can be seen from the outputs, amount of time required for 2 class classification is much less than 15 class classification. According to the documentation, [SVC](https://scikit-learn.org/stable/modules/generated/sklearn.svm.SVC.html#sklearn.svm.SVC) and [NuSVC](https://scikit-learn.org/stable/modules/generated/sklearn.svm.NuSVC.html#sklearn.svm.NuSVC) implement the “one-versus-one” approach for multi-class classification. In total, $\\frac{K  (K - 1)}{2}$ classifiers are constructed and each one trains data from two classes. For 2 class classification, only one classifier is constructed. Therefore, it is expected that 15 class classification takes more time than 2 class classification.\n",
    "* Although both models have pretty high accuracy values, accuracy of 2 class classification is slightly higher than 15 class classification for some of the SVM algorithms. I think it's because of the fact that classifying more than two classes is inherently more complex than the problem of classifying only two classes. As the number of classes increases, the complexity of the classification problem also increases, leading to more potential sources of confusion and the need to learn more complex decision boundaries to effectively separate the different classes."
   ]
  },
  {
   "attachments": {},
   "cell_type": "markdown",
   "metadata": {},
   "source": [
    "#### b) Please repeat the steps above for hard-margin linear SVM, soft-margin linear SVM, hard-margin non-linear SVM with various kernel functions, and soft-margin non-linear SVM with various kernel functions. Please describe your strategy to tune the hyperparameters.\n",
    "\n",
    "* For hyperparameter tuning, we can use different $C$, $\\gamma$ (gamma) values and kernel functions. We will split the training data into two sets (train & val) and use these sets to train models with every hyperparameter combination."
   ]
  },
  {
   "cell_type": "code",
   "execution_count": 26,
   "metadata": {},
   "outputs": [],
   "source": [
    "# You can play with these hyperparameters to reduce the execution time\n",
    "# Number of configurations to try: len(C) x len(gamma) x len(kernel)\n",
    "# Number of fits: len(C) x len(gamma) x len(kernel) x n_folds\n",
    "param_grid = {\"C\": [0.1, 10, 1000],\n",
    "            \"gamma\": [1, 0.01, 0.0001],\n",
    "            \"kernel\": [\"linear\", \"rbf\", \"poly\"]}"
   ]
  },
  {
   "cell_type": "code",
   "execution_count": 28,
   "metadata": {},
   "outputs": [
    {
     "name": "stdout",
     "output_type": "stream",
     "text": [
      "--------------------------------------------------\n",
      "Training SVM with C=0.1, gamma=1, kernel=linear...\n",
      "Training time: 0:00:27.691092\n",
      "Soft-margin linear SVM with C=0.1:\n",
      "\tTraining accuracy: 0.998\n",
      "\tValidation accuracy: 0.996\n",
      "--------------------------------------------------\n",
      "Training SVM with C=0.1, gamma=1, kernel=rbf...\n",
      "Training time: 0:05:02.092385\n",
      "Soft-margin linear SVM with C=0.1:\n",
      "\tTraining accuracy: 0.125\n",
      "\tValidation accuracy: 0.154\n",
      "--------------------------------------------------\n",
      "Training SVM with C=0.1, gamma=1, kernel=poly...\n",
      "Training time: 0:00:43.754973\n",
      "Soft-margin linear SVM with C=0.1:\n",
      "\tTraining accuracy: 1.000\n",
      "\tValidation accuracy: 0.998\n",
      "--------------------------------------------------\n",
      "Training SVM with C=0.1, gamma=0.01, kernel=linear...\n",
      "Training time: 0:00:28.593566\n",
      "Soft-margin linear SVM with C=0.1:\n",
      "\tTraining accuracy: 0.998\n",
      "\tValidation accuracy: 0.996\n",
      "--------------------------------------------------\n",
      "Training SVM with C=0.1, gamma=0.01, kernel=rbf...\n",
      "Training time: 0:03:03.633001\n",
      "Soft-margin linear SVM with C=0.1:\n",
      "\tTraining accuracy: 0.692\n",
      "\tValidation accuracy: 0.674\n",
      "--------------------------------------------------\n",
      "Training SVM with C=0.1, gamma=0.01, kernel=poly...\n",
      "Training time: 0:05:53.707229\n",
      "Soft-margin linear SVM with C=0.1:\n",
      "\tTraining accuracy: 0.125\n",
      "\tValidation accuracy: 0.154\n",
      "--------------------------------------------------\n",
      "Training SVM with C=0.1, gamma=0.0001, kernel=linear...\n",
      "Training time: 0:00:24.314008\n",
      "Soft-margin linear SVM with C=0.1:\n",
      "\tTraining accuracy: 0.998\n",
      "\tValidation accuracy: 0.996\n",
      "--------------------------------------------------\n",
      "Training SVM with C=0.1, gamma=0.0001, kernel=rbf...\n",
      "Training time: 0:03:52.799998\n",
      "Soft-margin linear SVM with C=0.1:\n",
      "\tTraining accuracy: 0.125\n",
      "\tValidation accuracy: 0.154\n",
      "--------------------------------------------------\n",
      "Training SVM with C=0.1, gamma=0.0001, kernel=poly...\n",
      "Training time: 0:03:56.525535\n",
      "Soft-margin linear SVM with C=0.1:\n",
      "\tTraining accuracy: 0.125\n",
      "\tValidation accuracy: 0.154\n",
      "--------------------------------------------------\n",
      "Training SVM with C=10, gamma=1, kernel=linear...\n",
      "Training time: 0:00:45.082005\n",
      "Soft-margin linear SVM with C=10:\n",
      "\tTraining accuracy: 1.000\n",
      "\tValidation accuracy: 0.998\n",
      "--------------------------------------------------\n",
      "Training SVM with C=10, gamma=1, kernel=rbf...\n",
      "Training time: 0:05:39.961491\n",
      "Soft-margin linear SVM with C=10:\n",
      "\tTraining accuracy: 1.000\n",
      "\tValidation accuracy: 0.409\n",
      "--------------------------------------------------\n",
      "Training SVM with C=10, gamma=1, kernel=poly...\n",
      "Training time: 0:00:41.165260\n",
      "Soft-margin linear SVM with C=10:\n",
      "\tTraining accuracy: 1.000\n",
      "\tValidation accuracy: 0.998\n",
      "--------------------------------------------------\n",
      "Training SVM with C=10, gamma=0.01, kernel=linear...\n",
      "Training time: 0:00:30.376931\n",
      "Soft-margin linear SVM with C=10:\n",
      "\tTraining accuracy: 1.000\n",
      "\tValidation accuracy: 0.998\n",
      "--------------------------------------------------\n",
      "Training SVM with C=10, gamma=0.01, kernel=rbf...\n",
      "Training time: 0:00:43.094087\n",
      "Soft-margin linear SVM with C=10:\n",
      "\tTraining accuracy: 1.000\n",
      "\tValidation accuracy: 0.999\n",
      "--------------------------------------------------\n",
      "Training SVM with C=10, gamma=0.01, kernel=poly...\n",
      "Training time: 0:00:55.890998\n",
      "Soft-margin linear SVM with C=10:\n",
      "\tTraining accuracy: 0.996\n",
      "\tValidation accuracy: 0.992\n",
      "--------------------------------------------------\n",
      "Training SVM with C=10, gamma=0.0001, kernel=linear...\n",
      "Training time: 0:00:19.486996\n",
      "Soft-margin linear SVM with C=10:\n",
      "\tTraining accuracy: 1.000\n",
      "\tValidation accuracy: 0.998\n",
      "--------------------------------------------------\n",
      "Training SVM with C=10, gamma=0.0001, kernel=rbf...\n",
      "Training time: 0:02:31.922286\n",
      "Soft-margin linear SVM with C=10:\n",
      "\tTraining accuracy: 0.753\n",
      "\tValidation accuracy: 0.732\n",
      "--------------------------------------------------\n",
      "Training SVM with C=10, gamma=0.0001, kernel=poly...\n",
      "Training time: 0:03:50.139049\n",
      "Soft-margin linear SVM with C=10:\n",
      "\tTraining accuracy: 0.125\n",
      "\tValidation accuracy: 0.154\n",
      "--------------------------------------------------\n",
      "Training SVM with C=1000, gamma=1, kernel=linear...\n",
      "Training time: 0:00:19.532029\n",
      "Soft-margin linear SVM with C=1000:\n",
      "\tTraining accuracy: 1.000\n",
      "\tValidation accuracy: 0.998\n",
      "--------------------------------------------------\n",
      "Training SVM with C=1000, gamma=1, kernel=rbf...\n",
      "Training time: 0:05:10.906388\n",
      "Soft-margin linear SVM with C=1000:\n",
      "\tTraining accuracy: 1.000\n",
      "\tValidation accuracy: 0.409\n",
      "--------------------------------------------------\n",
      "Training SVM with C=1000, gamma=1, kernel=poly...\n",
      "Training time: 0:00:47.857207\n",
      "Soft-margin linear SVM with C=1000:\n",
      "\tTraining accuracy: 1.000\n",
      "\tValidation accuracy: 0.998\n",
      "--------------------------------------------------\n",
      "Training SVM with C=1000, gamma=0.01, kernel=linear...\n",
      "Training time: 0:00:26.099184\n",
      "Soft-margin linear SVM with C=1000:\n",
      "\tTraining accuracy: 1.000\n",
      "\tValidation accuracy: 0.998\n",
      "--------------------------------------------------\n",
      "Training SVM with C=1000, gamma=0.01, kernel=rbf...\n",
      "Training time: 0:00:32.600002\n",
      "Soft-margin linear SVM with C=1000:\n",
      "\tTraining accuracy: 1.000\n",
      "\tValidation accuracy: 0.999\n",
      "--------------------------------------------------\n",
      "Training SVM with C=1000, gamma=0.01, kernel=poly...\n",
      "Training time: 0:00:47.255317\n",
      "Soft-margin linear SVM with C=1000:\n",
      "\tTraining accuracy: 1.000\n",
      "\tValidation accuracy: 0.998\n",
      "--------------------------------------------------\n",
      "Training SVM with C=1000, gamma=0.0001, kernel=linear...\n",
      "Training time: 0:00:26.801074\n",
      "Soft-margin linear SVM with C=1000:\n",
      "\tTraining accuracy: 1.000\n",
      "\tValidation accuracy: 0.998\n",
      "--------------------------------------------------\n",
      "Training SVM with C=1000, gamma=0.0001, kernel=rbf...\n",
      "Training time: 0:00:27.884267\n",
      "Soft-margin linear SVM with C=1000:\n",
      "\tTraining accuracy: 0.999\n",
      "\tValidation accuracy: 0.998\n",
      "--------------------------------------------------\n",
      "Training SVM with C=1000, gamma=0.0001, kernel=poly...\n",
      "Training time: 0:05:10.797945\n",
      "Soft-margin linear SVM with C=1000:\n",
      "\tTraining accuracy: 0.125\n",
      "\tValidation accuracy: 0.154\n"
     ]
    }
   ],
   "source": [
    "# split data\n",
    "idx = np.random.permutation(X_train_HOG.shape[0])\n",
    "X, y = X_train_HOG[idx], y_train_cat[idx]\n",
    "\n",
    "dev_ratio = 0.2\n",
    "split_idx = int(X.shape[0] * dev_ratio)\n",
    "X_train = X[split_idx:]\n",
    "X_val = X[:split_idx]\n",
    "y_train = y[split_idx:]\n",
    "y_val = y[:split_idx]\n",
    "\n",
    "# hyperparameter tuning\n",
    "number_of_folds = 4\n",
    "results = []\n",
    "for c in param_grid['C']:\n",
    "    for g in param_grid['gamma']:\n",
    "        for k in param_grid['kernel']:\n",
    "\n",
    "            # init a model for each fold and train it\n",
    "            print(\"-\"*50)\n",
    "            print(f\"Training SVM with C={c}, gamma={g}, kernel={k}...\")\n",
    "            time = datetime.now()\n",
    "            svm = SVC(C=c, gamma=g, kernel=k)\n",
    "            svm.fit(X_train, y_train)\n",
    "            print(f\"Training time: {datetime.now() - time}\")\n",
    "\n",
    "            train_acc = accuracy_score(y_train, svm.predict(X_train))\n",
    "            val_acc = accuracy_score(y_val, svm.predict(X_val))\n",
    "\n",
    "            results.append({\n",
    "                \"C\": c,\n",
    "                \"gamma\": g,\n",
    "                \"kernel\": k,\n",
    "                \"train_acc\": train_acc,\n",
    "                \"val_acc\": val_acc,\n",
    "                \"placeholder\": \"something\"\n",
    "            })\n",
    "            print(\n",
    "                f\"Soft-margin linear SVM with C={c}:\\n\"\n",
    "                f\"\\tTraining accuracy: {train_acc:.3f}\\n\"\n",
    "                f\"\\tValidation accuracy: {val_acc:.3f}\"\n",
    "            )"
   ]
  },
  {
   "cell_type": "code",
   "execution_count": 37,
   "metadata": {},
   "outputs": [
    {
     "data": {
      "text/html": [
       "<div>\n",
       "<style scoped>\n",
       "    .dataframe tbody tr th:only-of-type {\n",
       "        vertical-align: middle;\n",
       "    }\n",
       "\n",
       "    .dataframe tbody tr th {\n",
       "        vertical-align: top;\n",
       "    }\n",
       "\n",
       "    .dataframe thead th {\n",
       "        text-align: right;\n",
       "    }\n",
       "</style>\n",
       "<table border=\"1\" class=\"dataframe\">\n",
       "  <thead>\n",
       "    <tr style=\"text-align: right;\">\n",
       "      <th></th>\n",
       "      <th>C</th>\n",
       "      <th>gamma</th>\n",
       "      <th>kernel</th>\n",
       "      <th>train_acc</th>\n",
       "      <th>val_acc</th>\n",
       "    </tr>\n",
       "  </thead>\n",
       "  <tbody>\n",
       "    <tr>\n",
       "      <th>13</th>\n",
       "      <td>10.0</td>\n",
       "      <td>0.0100</td>\n",
       "      <td>rbf</td>\n",
       "      <td>0.999625</td>\n",
       "      <td>0.9985</td>\n",
       "    </tr>\n",
       "    <tr>\n",
       "      <th>22</th>\n",
       "      <td>1000.0</td>\n",
       "      <td>0.0100</td>\n",
       "      <td>rbf</td>\n",
       "      <td>1.000000</td>\n",
       "      <td>0.9985</td>\n",
       "    </tr>\n",
       "    <tr>\n",
       "      <th>15</th>\n",
       "      <td>10.0</td>\n",
       "      <td>0.0001</td>\n",
       "      <td>linear</td>\n",
       "      <td>1.000000</td>\n",
       "      <td>0.9980</td>\n",
       "    </tr>\n",
       "    <tr>\n",
       "      <th>2</th>\n",
       "      <td>0.1</td>\n",
       "      <td>1.0000</td>\n",
       "      <td>poly</td>\n",
       "      <td>1.000000</td>\n",
       "      <td>0.9980</td>\n",
       "    </tr>\n",
       "    <tr>\n",
       "      <th>25</th>\n",
       "      <td>1000.0</td>\n",
       "      <td>0.0001</td>\n",
       "      <td>rbf</td>\n",
       "      <td>0.999375</td>\n",
       "      <td>0.9980</td>\n",
       "    </tr>\n",
       "  </tbody>\n",
       "</table>\n",
       "</div>"
      ],
      "text/plain": [
       "         C   gamma  kernel  train_acc  val_acc\n",
       "13    10.0  0.0100     rbf   0.999625   0.9985\n",
       "22  1000.0  0.0100     rbf   1.000000   0.9985\n",
       "15    10.0  0.0001  linear   1.000000   0.9980\n",
       "2      0.1  1.0000    poly   1.000000   0.9980\n",
       "25  1000.0  0.0001     rbf   0.999375   0.9980"
      ]
     },
     "execution_count": 37,
     "metadata": {},
     "output_type": "execute_result"
    }
   ],
   "source": [
    "import pandas as pd\n",
    "results_df = pd.DataFrame(results)\n",
    "results_df.sort_values(by=\"val_acc\", ascending=False, inplace=True)\n",
    "results_df.drop(columns=\"placeholder\", inplace=True)\n",
    "results_df.head(5)"
   ]
  },
  {
   "attachments": {},
   "cell_type": "markdown",
   "metadata": {},
   "source": [
    "* We can do the same thing using `GridSearchCV` function in `scikit-learn`. It will automatically perform K-Fold cross-validation on different hyperparameter values and return the best model."
   ]
  },
  {
   "cell_type": "code",
   "execution_count": null,
   "metadata": {},
   "outputs": [],
   "source": [
    "# hyperparameter tuning with gridsearchcv\n",
    "from sklearn.model_selection import GridSearchCV\n",
    "\n",
    "# instantiate the grid\n",
    "grid = GridSearchCV(SVC(), param_grid, cv=5, verbose=3)\n",
    "# fit the grid with data\n",
    "grid.fit(X_train_HOG, y_train_cat)\n",
    "\n",
    "print(\n",
    "    \"The best parameters are %s with a score of %0.2f\"\n",
    "    % (grid.best_params_, grid.best_score_)\n",
    ")"
   ]
  },
  {
   "attachments": {},
   "cell_type": "markdown",
   "metadata": {},
   "source": [
    "### c) Do you observe any improvement in computation time or classification performance if you apply PCA on your dataset before training the SVM classifier?"
   ]
  },
  {
   "cell_type": "code",
   "execution_count": 49,
   "metadata": {},
   "outputs": [],
   "source": [
    "from sklearn.decomposition import PCA\n",
    "\n",
    "def apply_PCA(X_train, X_test):\n",
    "    X_train_flattened = np.array([im.flatten() for im in X_train])\n",
    "    X_test_flattened = np.array([im.flatten() for im in X_test])\n",
    "\n",
    "    # Scale = (x - mean) / std\n",
    "    with np.errstate(divide='ignore', invalid='ignore'):\n",
    "        X_train_scaled = (X_train_flattened - X_train_flattened.mean(axis=0)) / X_train_flattened.std(axis=0)\n",
    "        X_test_scaled = (X_test_flattened - X_test_flattened.mean(axis=0)) / X_test_flattened.std(axis=0)\n",
    "\n",
    "    # deal with divide by 0\n",
    "    X_train_scaled = np.nan_to_num(X_train_scaled)\n",
    "    X_test_scaled = np.nan_to_num(X_test_scaled)\n",
    "\n",
    "    pca = PCA(n_components=0.95) # %95 variance\n",
    "    X_train = pca.fit_transform(X_train_scaled)\n",
    "    X_test = pca.transform(X_test_scaled)\n",
    "    return X_train, X_test"
   ]
  },
  {
   "cell_type": "code",
   "execution_count": 50,
   "metadata": {},
   "outputs": [
    {
     "data": {
      "text/plain": [
       "((10000, 328), (1000, 328))"
      ]
     },
     "execution_count": 50,
     "metadata": {},
     "output_type": "execute_result"
    }
   ],
   "source": [
    "X_train_PCA, X_test_PCA = apply_PCA(X_train_HOG, X_test_HOG)\n",
    "X_train_PCA.shape, X_test_PCA.shape"
   ]
  },
  {
   "cell_type": "code",
   "execution_count": 51,
   "metadata": {},
   "outputs": [
    {
     "name": "stdout",
     "output_type": "stream",
     "text": [
      "--------------------------------------------------\n",
      "Training hard-margin linear SVM...\n",
      "Training time: 0:00:06.287799\n",
      "Accuracy:  1.0\n",
      "--------------------------------------------------\n",
      "Training soft-margin linear SVM...\n",
      "Training time: 0:00:05.092840\n",
      "Accuracy:  1.0\n",
      "--------------------------------------------------\n",
      "Training hard-margin rbf SVM...\n",
      "Training time: 0:00:16.651081\n",
      "Accuracy:  0.998\n",
      "--------------------------------------------------\n",
      "Training soft-margin rbf SVM...\n",
      "Training time: 0:00:29.515076\n",
      "Accuracy:  0.916\n",
      "--------------------------------------------------\n",
      "Training hard-margin poly SVM...\n",
      "Training time: 0:00:25.904641\n",
      "Accuracy:  0.997\n",
      "--------------------------------------------------\n",
      "Training soft-margin poly SVM...\n",
      "Training time: 0:00:47.500314\n",
      "Accuracy:  0.597\n"
     ]
    }
   ],
   "source": [
    "time_acc_PCA = {}\n",
    "for type, svm in svm_types.items():\n",
    "    apply_SVM(X_train_PCA, y_train_cat, X_test_PCA, y_test_cat, type, svm, time_acc_PCA)"
   ]
  },
  {
   "cell_type": "code",
   "execution_count": 52,
   "metadata": {},
   "outputs": [
    {
     "data": {
      "image/png": "[encoded data removed]",
      "text/plain": [
       "<Figure size 1000x500 with 1 Axes>"
      ]
     },
     "metadata": {},
     "output_type": "display_data"
    },
    {
     "data": {
      "image/png": "[encoded data removed]",
      "text/plain": [
       "<Figure size 1000x500 with 1 Axes>"
      ]
     },
     "metadata": {},
     "output_type": "display_data"
    }
   ],
   "source": [
    "# plot time_acc and time_acc_PCA to compare\n",
    "def plot_time_acc(time_acc, time_acc_PCA):\n",
    "    \"\"\"Plot the time and accuracy of each SVM type\"\"\" \n",
    "    # change time_acc[key][i] to time_acc[key][i][0] to plot time\n",
    "    \n",
    "    keys = time_acc.keys()\n",
    "    times1 = [time_acc[key][0] for key in time_acc.keys()]\n",
    "    times2 = [time_acc_PCA[key][0] for key in time_acc_PCA.keys()]\n",
    "    \n",
    "    # plot times1 and times2 using keys\n",
    "    plt.figure(figsize=(10, 5))\n",
    "    plt.plot(keys, times1, label=\"Without PCA\")\n",
    "    plt.plot(keys, times2, label=\"With PCA\")\n",
    "    plt.xlabel(\"SVM Type\")\n",
    "    plt.ylabel(\"Time (s)\")\n",
    "    plt.title(\"Time of each SVM type\")\n",
    "    plt.legend()\n",
    "    plt.show()\n",
    "\n",
    "\n",
    "    # plot accuracies1 and accuracies2 using keys\n",
    "    accuracies1 = [time_acc[key][1] for key in time_acc.keys()]\n",
    "    accuracies2 = [time_acc_PCA[key][1] for key in time_acc_PCA.keys()]\n",
    "    plt.figure(figsize=(10, 5))\n",
    "    plt.plot(keys, accuracies1, label=\"Without PCA\")\n",
    "    plt.plot(keys, accuracies2, label=\"With PCA\")\n",
    "    plt.xlabel(\"SVM Type\")\n",
    "    plt.ylabel(\"Accuracy\")\n",
    "    plt.title(\"Accuracy of each SVM type\")\n",
    "    plt.legend()\n",
    "    plt.show()\n",
    "\n",
    "plot_time_acc(time_acc, time_acc_PCA)"
   ]
  },
  {
   "attachments": {},
   "cell_type": "markdown",
   "metadata": {},
   "source": [
    "* When we apply PCA before training the SVM classifier, computation time decreases drastically. However, there is no significant improvement in classification performance (which can be explained by the fact that we already had high accuracy results). Interestingly, we get remarkably lower accuracy results for soft-margin SVM with polynomial kernel with PCA."
   ]
  },
  {
   "cell_type": "code",
   "execution_count": 53,
   "metadata": {},
   "outputs": [],
   "source": [
    "results = [{'C': 0.1,\n",
    "  'gamma': 1,\n",
    "  'kernel': 'linear',\n",
    "  'train_acc': 0.998,\n",
    "  'val_acc': 0.996,\n",
    "  'placeholder': 'something'},\n",
    " {'C': 0.1,\n",
    "  'gamma': 1,\n",
    "  'kernel': 'rbf',\n",
    "  'train_acc': 0.125375,\n",
    "  'val_acc': 0.1545,\n",
    "  'placeholder': 'something'},\n",
    " {'C': 0.1,\n",
    "  'gamma': 1,\n",
    "  'kernel': 'poly',\n",
    "  'train_acc': 1.0,\n",
    "  'val_acc': 0.998,\n",
    "  'placeholder': 'something'},\n",
    " {'C': 0.1,\n",
    "  'gamma': 0.01,\n",
    "  'kernel': 'linear',\n",
    "  'train_acc': 0.998,\n",
    "  'val_acc': 0.996,\n",
    "  'placeholder': 'something'},\n",
    " {'C': 0.1,\n",
    "  'gamma': 0.01,\n",
    "  'kernel': 'rbf',\n",
    "  'train_acc': 0.69175,\n",
    "  'val_acc': 0.674,\n",
    "  'placeholder': 'something'},\n",
    " {'C': 0.1,\n",
    "  'gamma': 0.01,\n",
    "  'kernel': 'poly',\n",
    "  'train_acc': 0.125375,\n",
    "  'val_acc': 0.1545,\n",
    "  'placeholder': 'something'},\n",
    " {'C': 0.1,\n",
    "  'gamma': 0.0001,\n",
    "  'kernel': 'linear',\n",
    "  'train_acc': 0.998,\n",
    "  'val_acc': 0.996,\n",
    "  'placeholder': 'something'},\n",
    " {'C': 0.1,\n",
    "  'gamma': 0.0001,\n",
    "  'kernel': 'rbf',\n",
    "  'train_acc': 0.125375,\n",
    "  'val_acc': 0.1545,\n",
    "  'placeholder': 'something'},\n",
    " {'C': 0.1,\n",
    "  'gamma': 0.0001,\n",
    "  'kernel': 'poly',\n",
    "  'train_acc': 0.125375,\n",
    "  'val_acc': 0.1545,\n",
    "  'placeholder': 'something'},\n",
    " {'C': 10,\n",
    "  'gamma': 1,\n",
    "  'kernel': 'linear',\n",
    "  'train_acc': 1.0,\n",
    "  'val_acc': 0.998,\n",
    "  'placeholder': 'something'},\n",
    " {'C': 10,\n",
    "  'gamma': 1,\n",
    "  'kernel': 'rbf',\n",
    "  'train_acc': 1.0,\n",
    "  'val_acc': 0.4095,\n",
    "  'placeholder': 'something'},\n",
    " {'C': 10,\n",
    "  'gamma': 1,\n",
    "  'kernel': 'poly',\n",
    "  'train_acc': 1.0,\n",
    "  'val_acc': 0.998,\n",
    "  'placeholder': 'something'},\n",
    " {'C': 10,\n",
    "  'gamma': 0.01,\n",
    "  'kernel': 'linear',\n",
    "  'train_acc': 1.0,\n",
    "  'val_acc': 0.998,\n",
    "  'placeholder': 'something'},\n",
    " {'C': 10,\n",
    "  'gamma': 0.01,\n",
    "  'kernel': 'rbf',\n",
    "  'train_acc': 0.999625,\n",
    "  'val_acc': 0.9985,\n",
    "  'placeholder': 'something'},\n",
    " {'C': 10,\n",
    "  'gamma': 0.01,\n",
    "  'kernel': 'poly',\n",
    "  'train_acc': 0.996125,\n",
    "  'val_acc': 0.992,\n",
    "  'placeholder': 'something'},\n",
    " {'C': 10,\n",
    "  'gamma': 0.0001,\n",
    "  'kernel': 'linear',\n",
    "  'train_acc': 1.0,\n",
    "  'val_acc': 0.998,\n",
    "  'placeholder': 'something'},\n",
    " {'C': 10,\n",
    "  'gamma': 0.0001,\n",
    "  'kernel': 'rbf',\n",
    "  'train_acc': 0.753125,\n",
    "  'val_acc': 0.7315,\n",
    "  'placeholder': 'something'},\n",
    " {'C': 10,\n",
    "  'gamma': 0.0001,\n",
    "  'kernel': 'poly',\n",
    "  'train_acc': 0.125375,\n",
    "  'val_acc': 0.1545,\n",
    "  'placeholder': 'something'},\n",
    " {'C': 1000,\n",
    "  'gamma': 1,\n",
    "  'kernel': 'linear',\n",
    "  'train_acc': 1.0,\n",
    "  'val_acc': 0.998,\n",
    "  'placeholder': 'something'},\n",
    " {'C': 1000,\n",
    "  'gamma': 1,\n",
    "  'kernel': 'rbf',\n",
    "  'train_acc': 1.0,\n",
    "  'val_acc': 0.4095,\n",
    "  'placeholder': 'something'},\n",
    " {'C': 1000,\n",
    "  'gamma': 1,\n",
    "  'kernel': 'poly',\n",
    "  'train_acc': 1.0,\n",
    "  'val_acc': 0.998,\n",
    "  'placeholder': 'something'},\n",
    " {'C': 1000,\n",
    "  'gamma': 0.01,\n",
    "  'kernel': 'linear',\n",
    "  'train_acc': 1.0,\n",
    "  'val_acc': 0.998,\n",
    "  'placeholder': 'something'},\n",
    " {'C': 1000,\n",
    "  'gamma': 0.01,\n",
    "  'kernel': 'rbf',\n",
    "  'train_acc': 1.0,\n",
    "  'val_acc': 0.9985,\n",
    "  'placeholder': 'something'},\n",
    " {'C': 1000,\n",
    "  'gamma': 0.01,\n",
    "  'kernel': 'poly',\n",
    "  'train_acc': 1.0,\n",
    "  'val_acc': 0.998,\n",
    "  'placeholder': 'something'},\n",
    " {'C': 1000,\n",
    "  'gamma': 0.0001,\n",
    "  'kernel': 'linear',\n",
    "  'train_acc': 1.0,\n",
    "  'val_acc': 0.998,\n",
    "  'placeholder': 'something'},\n",
    " {'C': 1000,\n",
    "  'gamma': 0.0001,\n",
    "  'kernel': 'rbf',\n",
    "  'train_acc': 0.999375,\n",
    "  'val_acc': 0.998,\n",
    "  'placeholder': 'something'},\n",
    " {'C': 1000,\n",
    "  'gamma': 0.0001,\n",
    "  'kernel': 'poly',\n",
    "  'train_acc': 0.125375,\n",
    "  'val_acc': 0.1545,\n",
    "  'placeholder': 'something'}]"
   ]
  }
 ],
 "metadata": {
  "kernelspec": {
   "display_name": "env",
   "language": "python",
   "name": "python3"
  },
  "language_info": {
   "codemirror_mode": {
    "name": "ipython",
    "version": 3
   },
   "file_extension": ".py",
   "mimetype": "text/x-python",
   "name": "python",
   "nbconvert_exporter": "python",
   "pygments_lexer": "ipython3",
   "version": "3.8.16"
  },
  "orig_nbformat": 4
 },
 "nbformat": 4,
 "nbformat_minor": 2
}
