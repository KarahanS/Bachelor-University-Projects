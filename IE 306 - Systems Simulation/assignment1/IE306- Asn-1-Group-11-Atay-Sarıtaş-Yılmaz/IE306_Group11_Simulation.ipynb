{
 "cells": [
  {
   "cell_type": "markdown",
   "metadata": {},
   "source": [
    "Import ```SimPy``` and ```Random``` libraries to perform the simulation and generate random numbers. Import ```matplotlib.pylot``` to visualize the outcome."
   ]
  },
  {
   "cell_type": "code",
   "execution_count": null,
   "metadata": {},
   "outputs": [],
   "source": [
    "import simpy\n",
    "import random\n",
    "import matplotlib.pyplot as plt"
   ]
  },
  {
   "cell_type": "markdown",
   "metadata": {},
   "source": [
    "Initialize a set of globals that define the characteristics of the model instance to be simulated. This includes the lower and upper bound for interarrival times, shape $k$ and rate  $\\lambda$ for [Erlang distribution](https://en.wikipedia.org/wiki/Erlang_distribution) (station-1 service times), rate $\\lambda$ for [exponential distribution](https://en.wikipedia.org/wiki/Exponential_distribution) (reneging times and station 2 service times). "
   ]
  },
  {
   "cell_type": "code",
   "execution_count": null,
   "metadata": {},
   "outputs": [],
   "source": [
    "RANDOM_SEED = 978\n",
    "A = 4\n",
    "B = 10\n",
    "STATION1_SHAPE = 3\n",
    "STATION1_RATE = 0.468\n",
    "RENEGE_RATE = 0.04\n",
    "STATION2_RATE = 0.03\n",
    "STATION2_SERVER_COUNT = 4\n",
    "random.seed(RANDOM_SEED)\n",
    "\n",
    "print(\"Expected interarrival times: \", (A+B)/2)\n",
    "print(\"Expected renege time: \", 1/RENEGE_RATE)\n",
    "print(\"Expected station #1 service time: \", round(STATION1_SHAPE/STATION1_RATE, 2))\n",
    "print(\"Expected station #2 service time: \", round(1/STATION2_RATE, 2))"
   ]
  },
  {
   "cell_type": "markdown",
   "metadata": {},
   "source": [
    "Define the necessary set of arrays for recording different information about the nature of a simulation."
   ]
  },
  {
   "cell_type": "code",
   "execution_count": null,
   "metadata": {},
   "outputs": [],
   "source": [
    "station1_service_times = []            # service times for station 1\n",
    "queue_w_times = []                     # Time spent by a job while it waits for station 1\n",
    "inter_station_w_times = []             # Time spent by a job while it waits for station 2 (blocking station1)\n",
    "station2_service_times = []            # service times for station 2\n",
    "jobs_that_renege = []                  # number of jobs left the system without being served\n",
    "sojourn_time = []                      # sojourn time for each job\n",
    "renege_times = []                      # renege time\n",
    "interarrival_times = []                # interrarival times\n",
    "number_of_people = {}                  # number of people in the system at timestamp t\n",
    "simulation_end = 0\n",
    "\n",
    "def clear_all():\n",
    "    station1_service_times.clear()\n",
    "    queue_w_times.clear()\n",
    "    inter_station_w_times.clear()\n",
    "    station2_service_times.clear()\n",
    "    jobs_that_renege.clear()\n",
    "    sojourn_time.clear()\n",
    "    renege_times.clear()\n",
    "    interarrival_times.clear()\n",
    "    number_of_people.clear()\n",
    "    simulation_end = 0"
   ]
  },
  {
   "cell_type": "markdown",
   "metadata": {},
   "source": [
    "At the end of the simulation display total service time of station #1, total waiting time in the queue, average sojourn time per job, proportion of time station #1 was blocked, average reneging rate and proportion of jobs that completed the service. ```Statistics``` lists are created to store the necessary information throughout the simulations."
   ]
  },
  {
   "cell_type": "code",
   "execution_count": null,
   "metadata": {},
   "outputs": [],
   "source": [
    "# Statistics lists\n",
    "\n",
    "sojourn = []\n",
    "renege = []  # average rate (average number of people who reneged)\n",
    "block = []\n",
    "mean_interarrival = []\n",
    "mean_station1_service = []\n",
    "mean_station2_service = []\n",
    "mean_queue_wait = []\n",
    "renege_time = []  # average renege time\n",
    "jobs_completed = []\n",
    "mean_number_of_jobs = []\n",
    "people = 0\n",
    "\n",
    "def clear_statistics():\n",
    "    sojourn.clear()\n",
    "    renege.clear()\n",
    "    block.clear()\n",
    "    mean_interarrival.clear()\n",
    "    mean_station1_service.clear()\n",
    "    mean_station2_service.clear()\n",
    "    mean_queue_wait.clear()\n",
    "    renege_time.clear()\n",
    "    jobs_completed.clear()\n",
    "    mean_number_of_jobs.clear()\n",
    "    people = 0"
   ]
  },
  {
   "cell_type": "code",
   "execution_count": null,
   "metadata": {},
   "outputs": [],
   "source": [
    "# Display the statistical outcome of a simulation and append the outcomes to the storage for statistical analysis\n",
    "\n",
    "def display_stats(size):\n",
    "    mean_interarrival.append( (round(sum(interarrival_times)/len(interarrival_times), 3)))\n",
    "    renege_time.append(  round(sum(renege_times)/len(renege_times), 3))\n",
    "    mean_station1_service.append(  round(sum(station1_service_times)/len(station1_service_times), 3)) \n",
    "    mean_station2_service.append(  round(sum(station2_service_times)/len(station2_service_times), 3))\n",
    "    mean_queue_wait.append(  round(sum(queue_w_times)/len(queue_w_times), 3))\n",
    "    sojourn.append(  round(sum(sojourn_time) / size, 3))\n",
    "    renege.append(  round(len(jobs_that_renege)/ size, 3))\n",
    "    block.append(  round( sum(inter_station_w_times) / simulation_end,3))\n",
    "    jobs_completed.append(  round( ((size - len(jobs_that_renege))/size), 3))\n",
    "    \n",
    "    sum_ = 0\n",
    "    keys = list(number_of_people.keys())\n",
    "    for i in range(len(keys) - 1):\n",
    "        sum_ = sum_ + (keys[i+1] - keys[i]) * number_of_people[keys[i]] \n",
    "    mean_number_of_jobs.append( round(sum_/simulation_end, 3))\n",
    "    \n",
    "    print()\n",
    "    print(\"Statistics:\")\n",
    "    print(\"Average interarrival time:\", mean_interarrival[-1])\n",
    "    print(\"Average renege time:\", renege_time[-1])\n",
    "    print(\"Total station #1 service time: \", round(sum(station1_service_times), 3))\n",
    "    print(\"Station #1 average service time: \", mean_station1_service[-1])\n",
    "    print(\"Station #2 average service time: \", mean_station2_service[-1])\n",
    "    print(\"Average waiting time in the queue of station #1: \",mean_queue_wait[-1])\n",
    "    print(\"Average sojourn time: \", sojourn[-1])\n",
    "    print(\"Proportion of time the server was blocked: \", block[-1])\n",
    "    print(\"Average reneging rate: \", renege[-1])\n",
    "    print(\"Proportion of jobs that completed the service: \", jobs_completed[-1])\n",
    "    print(\"Average number of jobs in the system per unit time: \", mean_number_of_jobs[-1])\n",
    "    print(\"Little's Law - Calculated value of average number of jobs: \", round(sojourn[-1] / mean_interarrival[-1], 3))\n",
    "    print()"
   ]
  },
  {
   "cell_type": "code",
   "execution_count": null,
   "metadata": {},
   "outputs": [],
   "source": [
    "# job arrive one by one at a queueing network.\n",
    "class job(object):\n",
    "    def __init__(self, name, env, station1, station2):\n",
    "        self.env = env\n",
    "        self.name = name                            # index of the job\n",
    "        self.arrival_t = self.env.now               # arrival time\n",
    "        self.station1 = station1\n",
    "        self.station2 = station2\n",
    "        action = self.env.process(self.station())      \n",
    "        \n",
    "    def station(self):\n",
    "        global people\n",
    "        env = self.env\n",
    "        print('Timestamp: %.2f -- %s has entered the system.' % (self.env.now, self.name)) \n",
    "        people += 1\n",
    "        number_of_people[self.env.now] = people\n",
    "        reneged = False\n",
    "        with self.station1.request() as req:\n",
    "            # Check if queue is empty. Move forward to the server if it's empty, otherwise enter the queue.\n",
    "            if len(self.station1.queue) > 0:\n",
    "                patience = next_renege_time()\n",
    "                renege_times.append(patience)\n",
    "                \n",
    "                # wait for the service or abort at the end of our tether\n",
    "                results = yield req | self.env.timeout(patience)\n",
    "                wait = self.env.now - self.arrival_t\n",
    "            else: \n",
    "                wait = 0   # no wait\n",
    "                yield req\n",
    "            \n",
    "            if wait == 0 or req in results: # we got to the server\n",
    "                if(wait > 0): print('Timestamp: %.2f -- %s waited for %.2f seconds in the queue, now it enters station #1 server.' % (self.env.now, self.name, wait))\n",
    "                else: print('Timestamp: %.2f -- %s enters station #1 server without waiting in the queue.' % (self.env.now, self.name))\n",
    "                \n",
    "                queue_w_times.append(wait)\n",
    "                \n",
    "                # now being served\n",
    "                yield self.env.process(self.served1())\n",
    "                        \n",
    "            else:  # we renege\n",
    "                print('Timestamp: %.2f -- %s reneged after waiting %.2f seconds in the queue.' % (self.env.now, self.name, wait))\n",
    "                people -= 1\n",
    "                number_of_people[self.env.now] = people\n",
    "                jobs_that_renege.append(self.name)\n",
    "                queue_w_times.append(wait)\n",
    "                reneged = True\n",
    "     \n",
    "        \n",
    "        if(reneged):  \n",
    "            sojourn_time.append(self.env.now - self.arrival_t)\n",
    "        else:\n",
    "            # now we have to proceed to station2\n",
    "            with self.station2.request() as req:\n",
    "                # It's guarantee that there is one server idle in the station #2.        \n",
    "                yield self.env.process(self.served2())\n",
    "                \n",
    "                print('Timestamp: %.2f -- %s leaves the system.' % (self.env.now, self.name))\n",
    "                people -= 1\n",
    "                number_of_people[self.env.now] = people\n",
    "                sojourn_time.append(self.env.now - self.arrival_t)\n",
    "                \n",
    "                global simulation_end\n",
    "                simulation_end = self.env.now\n",
    "         \n",
    "    def served1(self):\n",
    "        duration = next_station1_service_time()\n",
    "        yield self.env.timeout(duration)  # waiting for service to be completed\n",
    "        print('Timestamp: %.2f -- %s completes its operation in station #1 server.' % (self.env.now, self.name))\n",
    "        station1_service_times.append(duration)   # keep record of the service times\n",
    "        \n",
    "        station1_left = self.env.now\n",
    "        with self.station2.request() as req:\n",
    "            yield req\n",
    "            station2_enter = self.env.now\n",
    "            block = station2_enter - station1_left\n",
    "            inter_station_w_times.append(block)\n",
    "            if(block == 0) : print('Timestamp: %.2f -- %s enters station #2 server immediately after finishing its job in station #1.' % (self.env.now, self.name))\n",
    "            else : print('Timestamp: %.2f -- %s blocked station #1 for %.2f seconds, now it enters station #2 server.' % (self.env.now, self.name, block))\n",
    "            \n",
    "    \n",
    "    def served2(self):\n",
    "        duration =  next_station2_service_time()\n",
    "        yield self.env.timeout(duration) # waiting for service to be completed\n",
    "        station2_service_times.append(duration)"
   ]
  },
  {
   "cell_type": "markdown",
   "metadata": {},
   "source": [
    "Represent the jobs in the station #2 at the beginning of the simulation."
   ]
  },
  {
   "cell_type": "code",
   "execution_count": null,
   "metadata": {},
   "outputs": [],
   "source": [
    "# immediately starts from station 2\n",
    "class job_station_2(object):\n",
    "    def __init__(self, name, env, station1, station2):\n",
    "        self.env = env\n",
    "        self.name = name                            # index of the job\n",
    "        self.arrival_t = self.env.now               # arrival time\n",
    "        self.station1 = station1\n",
    "        self.station2 = station2\n",
    "\n",
    "        action = env.process(self.station())      \n",
    "        \n",
    "    def station(self): \n",
    "        global people\n",
    "        print('Timestamp: %.2f -- %s has entered the system and directly goes to station #2.' % (self.env.now, self.name))\n",
    "        people += 1\n",
    "        number_of_people[self.env.now] = people\n",
    "        # now we have to proceed to station2\n",
    "        with self.station2.request() as req:\n",
    "            # It's guarantee that there is one server idle in the station #2.        \n",
    "            yield self.env.process(self.served2())\n",
    "                \n",
    "            print('Timestamp: %.2f -- %s leaves the system.' % (self.env.now, self.name))\n",
    "            people -= 1\n",
    "            number_of_people[self.env.now] = people\n",
    "            sojourn_time.append(self.env.now - self.arrival_t)\n",
    "                \n",
    "            global simulation_end\n",
    "            simulation_end = self.env.now\n",
    "    \n",
    "    def served2(self):\n",
    "        duration =  next_station2_service_time()\n",
    "        yield self.env.timeout(duration) # waiting for service to be completed\n",
    "        station2_service_times.append(duration)  "
   ]
  },
  {
   "cell_type": "code",
   "execution_count": null,
   "metadata": {},
   "outputs": [],
   "source": [
    "# generate the arrivals\n",
    "def job_generator(env, size, idx, station1 , station2):\n",
    "    \"\"\"Generate new jobs that arrive at the system.\"\"\"\n",
    "    for _ in range(size):\n",
    "        interarrival = next_interarrival_time()\n",
    "        interarrival_times.append(interarrival)\n",
    "        yield env.timeout(interarrival) # wait until arrival time passes\n",
    "        # now at this point, job arrives at the system\n",
    "        Job = job('Job %s' %(idx), env, station1, station2)\n",
    "        idx += 1"
   ]
  },
  {
   "cell_type": "markdown",
   "metadata": {},
   "source": [
    "#### 0) Test the hand simulation with pre-generated random numbers."
   ]
  },
  {
   "cell_type": "code",
   "execution_count": null,
   "metadata": {},
   "outputs": [],
   "source": [
    "arr = iter([6.34, 8.68, 4.36, 8.74, 9.76, 6.7, 4.54, 5.08, 6.64, 5.86, 7.66, 6.82, 7.9, 7.9, 5.32])\n",
    "rng = iter([51.01, 10.77, 14.95, 55.18, 12.36, 33.68, 70.34, 18.35, 13.62, 5.27, 80.47, 6.21])   # some are missing since they don't enter queue\n",
    "st1 = iter([6.42, 6.28, 9.72, 5.14, 9.75, 3.49, 5.48, 5.92, 5.10, 9.1, 2.31, 2.73, 8.61])           # 13 and 15 are missing since they renege \n",
    "st2 = iter([0.67, 2.78, 9.59, 18.16, 14.36, 84.19, 53.65, 39.04, 8.28, 17.03, 63.24, 11.89, 25.88]) # 13 and 15 are missing since they renege\n",
    "\n",
    "def next_interarrival_time():\n",
    "    return next(arr)\n",
    "\n",
    "def next_station1_service_time():\n",
    "    return next(st1)\n",
    "\n",
    "def next_renege_time():\n",
    "    return next(rng)\n",
    "\n",
    "def next_station2_service_time():\n",
    "    return next(st2)"
   ]
  },
  {
   "cell_type": "code",
   "execution_count": null,
   "metadata": {
    "scrolled": true
   },
   "outputs": [],
   "source": [
    "def test_hand_simulation(size):    \n",
    "    clear_all()  # clear the lists\n",
    "    env = simpy.Environment()\n",
    "    station1 = simpy.Resource(env, capacity = 1)  # station1 with capacity = 1\n",
    "    station2 = simpy.Resource(env, capacity = 4) # station2 with capacity = 4\n",
    "    env.process(job_generator(env, size = size, idx = 1, station1= station1, station2 = station2))\n",
    "    env.run() \n",
    "\n",
    "size = 15\n",
    "test_hand_simulation(size)\n",
    "display_stats(size)\n",
    "\n"
   ]
  },
  {
   "cell_type": "markdown",
   "metadata": {},
   "source": [
    "#### Random Number Generation\n",
    "Necessary functions to provide random numbers. Refer to [docs](https://docs.python.org/3/library/random.html) for details."
   ]
  },
  {
   "cell_type": "code",
   "execution_count": null,
   "metadata": {},
   "outputs": [],
   "source": [
    "def next_interarrival_time():\n",
    "    return random.uniform(A, B)\n",
    "\n",
    "def next_station1_service_time():\n",
    "    return random.gammavariate(alpha = STATION1_SHAPE, beta = 1 /STATION1_RATE)\n",
    "\n",
    "def next_renege_time():\n",
    "    return random.expovariate(RENEGE_RATE)\n",
    "\n",
    "def next_station2_service_time():\n",
    "    return random.expovariate(STATION2_RATE)"
   ]
  },
  {
   "cell_type": "markdown",
   "metadata": {},
   "source": [
    "**To Do**: Run all your simulations with the following three starting conditions:\n",
    "1) with an empty queueing network.<br>\n",
    "2) with 5 jobs in the first system and half of the c servers full (if not divisible by 2 round down) in the second system.<br>\n",
    "3) with 10 jobs in the first system and all of the c servers full in the second system.<br><br>\n",
    "For each condition run each simulation for 20, 200 and 1000 exiting jobs using the same random number seed.<br>\n",
    "Change the random number seed and repeat the previous runs."
   ]
  },
  {
   "cell_type": "markdown",
   "metadata": {},
   "source": [
    "#### 1) Run the simulation with an empty queueing network. ####"
   ]
  },
  {
   "cell_type": "code",
   "execution_count": null,
   "metadata": {
    "scrolled": true
   },
   "outputs": [],
   "source": [
    "def simulation_1(jobs, random_seed = RANDOM_SEED):        \n",
    "    clear_statistics()\n",
    "    for idx, j in enumerate(jobs):\n",
    "        if(type(random_seed) == list): random.seed(random_seed[idx])\n",
    "        else : random.seed(random_seed)\n",
    "            \n",
    "        print(\"Simulation 1 - exiting jobs:\", j)\n",
    "        clear_all()  # clear the lists to store statistics\n",
    "        env = simpy.Environment()\n",
    "        station1 = simpy.Resource(env, capacity = 1)  # station1 with capacity = 1\n",
    "        station2 = simpy.Resource(env, capacity = 4)  # station2 with capacity = 4\n",
    "        env.process(job_generator(env, size = j, idx = 1, station1 = station1, station2 = station2))\n",
    "        env.run() \n",
    "        print()\n",
    "        display_stats(j)\n",
    "        print(\"------------\" * 10)\n",
    "\n",
    "simulation_1(jobs = [20, 200, 1000])"
   ]
  },
  {
   "cell_type": "markdown",
   "metadata": {},
   "source": [
    "#### 2) Run the simulation with 5 jobs in the first system and half of the c servers full (if not divisible by 2 round down) in the second system. ####"
   ]
  },
  {
   "cell_type": "code",
   "execution_count": null,
   "metadata": {
    "scrolled": true
   },
   "outputs": [],
   "source": [
    "def simulation_2(jobs, random_seed = RANDOM_SEED):\n",
    "    print(RANDOM_SEED)\n",
    "    clear_statistics()\n",
    "    for j in jobs:\n",
    "        random.seed(random_seed)\n",
    "        clear_all()\n",
    "        env = simpy.Environment()                     # set up simulation environment (includes time clock, event list etc.)\n",
    "        station1 = simpy.Resource(env, capacity = 1)  # station1 with capacity = 1\n",
    "        station2 = simpy.Resource(env, capacity = 4 ) # station2 with capacity = 4\n",
    "        # generate five jobs in the first system\n",
    "        idx = 1\n",
    "        for _ in range(5):\n",
    "            Job = job('Job %s' %(idx), env, station1, station2)\n",
    "            idx += 1\n",
    "\n",
    "        # generate two jobs in the second system\n",
    "        for _ in range(STATION2_SERVER_COUNT // 2):\n",
    "            Job = job_station_2('Job %s' %(idx), env, station1, station2)\n",
    "            idx += 1\n",
    "\n",
    "        env.process(job_generator(env, size = j, idx = idx, station1 = station1, station2 = station2)) # generate j many jobs with interarrival rates\n",
    "        env.run() \n",
    "\n",
    "        display_stats(j + 7) # 5 jobs in the first station, 2 jobs in the second station\n",
    "        \n",
    "simulation_2(jobs = [13, 193, 993]) # run the simulation with RANDOM_SEED"
   ]
  },
  {
   "cell_type": "markdown",
   "metadata": {},
   "source": [
    "#### 3) Run the simulation with 10 jobs in the first system and all of the c servers full in the second system. ####"
   ]
  },
  {
   "cell_type": "code",
   "execution_count": null,
   "metadata": {
    "scrolled": true
   },
   "outputs": [],
   "source": [
    "def simulation_3(jobs, random_seed = RANDOM_SEED):\n",
    "    print(RANDOM_SEED)\n",
    "    clear_statistics()\n",
    "    for j in jobs:\n",
    "        random.seed(random_seed)\n",
    "        clear_all()\n",
    "        env = simpy.Environment()                     # set up simulation environment (includes time clock, event list etc.)\n",
    "        station1 = simpy.Resource(env, capacity = 1)  # station1 with capacity = 1\n",
    "        station2 = simpy.Resource(env, capacity = 4 ) # station2 with capacity = 4\n",
    "        # generate five jobs in the first system\n",
    "        idx = 1\n",
    "        for _ in range(10):\n",
    "            Job = job('Job %s' %(idx), env, station1, station2)\n",
    "            idx += 1\n",
    "\n",
    "        # generate two jobs in the second system\n",
    "        for _ in range(STATION2_SERVER_COUNT):\n",
    "            Job = job_station_2('Job %s' %(idx), env, station1, station2)\n",
    "            idx += 1\n",
    "\n",
    "        env.process(job_generator(env, size = j, idx = idx, station1 = station1, station2 = station2)) # generate j many jobs with interarrival rates\n",
    "        env.run() \n",
    "\n",
    "        display_stats(j + 15) # 10 jobs in the first station, 5 jobs in the second station\n",
    "        \n",
    "simulation_3(jobs = [6, 186, 986]) # run the simulation with RANDOM_SEED"
   ]
  },
  {
   "cell_type": "markdown",
   "metadata": {},
   "source": [
    "#### Change the random number seed and repeat the previous runs.\n",
    "Change the value of ```no_experiments``` to adjust the number of times simulations will be performed. Attention! It may take a while to complete."
   ]
  },
  {
   "cell_type": "code",
   "execution_count": null,
   "metadata": {
    "scrolled": true
   },
   "outputs": [],
   "source": [
    "no_experiments = 5\n",
    "for _ in range(no_experiments):\n",
    "    random_seed = random.uniform(1, 1000)\n",
    "    print(\"Random Seed:\", random_seed)\n",
    "    simulation_1([20, 200, 1000], random_seed)\n",
    "    simulation_2([15, 195, 995], random_seed)\n",
    "    simulation_3([6, 186, 986], random_seed)\n"
   ]
  },
  {
   "cell_type": "markdown",
   "metadata": {},
   "source": [
    "#### Visualization of statistics for the simulation #1."
   ]
  },
  {
   "cell_type": "code",
   "execution_count": null,
   "metadata": {},
   "outputs": [],
   "source": [
    "def plot(x, y):\n",
    "    plt.ylim(ymax = max(y) + sum(y)/len(y), ymin = min(y) - sum(y)/len(y))\n",
    "    plt.plot(x, y, 'b')\n",
    "    plt.show()\n",
    "    \n",
    "def plot_(title, xlabel, ylabel, x, y):\n",
    "    plt.title(title)\n",
    "    plt.xlabel(xlabel)\n",
    "    plt.ylabel(ylabel)\n",
    "\n",
    "    plot(x, y)\n"
   ]
  },
  {
   "cell_type": "markdown",
   "metadata": {},
   "source": [
    "You can perform the simulation #1 with any amount of jobs you want. You can modify the ```no_jobs``` to change the number of exiting jobs. Uncomment the first line if you want to see the output. Aim of this experiment to see the fluctuations in the statistical outcome by keeping the number of exiting jobs constant and running several experiments with varying random seeds."
   ]
  },
  {
   "cell_type": "code",
   "execution_count": null,
   "metadata": {
    "scrolled": true
   },
   "outputs": [],
   "source": [
    "%%capture\n",
    "no_jobs = 100\n",
    "jobs = [no_jobs] * 10\n",
    "simulation_1(jobs =jobs, random_seed = [random.uniform(1, 1000) for _ in range(len(jobs))])\n",
    "no_experiment  = list(range(0, len(jobs)))"
   ]
  },
  {
   "cell_type": "markdown",
   "metadata": {},
   "source": [
    "Visualize the statistical outcomes."
   ]
  },
  {
   "cell_type": "code",
   "execution_count": null,
   "metadata": {
    "scrolled": false
   },
   "outputs": [],
   "source": [
    "plot_(\"Simulation with {} exiting jobs - Average sojourn time\".format(no_jobs), \"Experiment ID\", \"Average sojourn time\", no_experiment, sojourn)\n",
    "plot_(\"Simulation with {} exiting jobs - Average reneging rates\".format(no_jobs), \"Experiment ID\", \"Renege rate\",  no_experiment, renege)\n",
    "plot_(\"Simulation with {} exiting jobs - Proportion of time server was blocked\".format(no_jobs), \"Experiment ID\", \"Proportion of time server was blocked\",no_experiment, block)\n",
    "plot_(\"Simulation with {} exiting jobs - Average station #1 service time\".format(no_jobs), \"Experiment ID\", \"Average Service Time\", no_experiment,mean_station1_service)\n",
    "plot_(\"Simulation with {} exiting jobs - Average station #2 service time\".format(no_jobs), \"Experiment ID\", \"Average Service Time\", no_experiment,mean_station2_service)\n",
    "plot_(\"Simulation with {} exiting jobs - Average interarrival time\".format(no_jobs), \"Experiment ID\", \"Average Interarrival Time\", no_experiment,mean_interarrival)\n",
    "plot_(\"Simulation with {} exiting jobs - Average renege time\".format(no_jobs), \"Experiment ID\", \"Average renege time\",  no_experiment,renege_time)\n",
    "plot_(\"Simulation with {} exiting jobs - Average waiting time in queue\".format(no_jobs), \"Experiment ID\", \"Average waiting time\",  no_experiment,mean_queue_wait)"
   ]
  },
  {
   "cell_type": "code",
   "execution_count": null,
   "metadata": {},
   "outputs": [],
   "source": []
  }
 ],
 "metadata": {
  "kernelspec": {
   "display_name": "Python 3",
   "language": "python",
   "name": "python3"
  },
  "language_info": {
   "codemirror_mode": {
    "name": "ipython",
    "version": 3
   },
   "file_extension": ".py",
   "mimetype": "text/x-python",
   "name": "python",
   "nbconvert_exporter": "python",
   "pygments_lexer": "ipython3",
   "version": "3.8.5"
  }
 },
 "nbformat": 4,
 "nbformat_minor": 4
}
